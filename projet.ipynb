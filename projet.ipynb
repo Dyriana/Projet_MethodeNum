{
 "cells": [
  {
   "cell_type": "code",
   "execution_count": 2,
   "metadata": {},
   "outputs": [],
   "source": [
    "from numpy import *\n",
    "import matplotlib.pyplot as plt"
   ]
  },
  {
   "cell_type": "markdown",
   "metadata": {},
   "source": [
    "# <center>Partie pratique : Sujet 2</center>\n",
    "# <center>Équation de Burgers visqueuse</center>"
   ]
  },
  {
   "cell_type": "markdown",
   "metadata": {},
   "source": [
    "On considère le problème :\n",
    "$$\n",
    "\\begin{array}{cl}\n",
    "\\frac{\\partial u}{\\partial t}-\\nu\\frac{\\partial^{2} u}{\\partial x^{2}}+u\\frac{\\partial u}{\\partial x}=0 & \\text {dans }(0, 1) \\times(0,T), \\\\\n",
    "\\frac{\\partial u}{\\partial x}(0, t)=0, \\text { et } ~\\frac{\\partial u}{\\partial x}(1, t)=0 & \\text {pour } ~ t \\geq 0, \\\\\n",
    "u(x, 0)=u_{0}(x) & \\text {dans }(0,1),\n",
    "\\end{array}\n",
    "$$"
   ]
  },
  {
   "cell_type": "markdown",
   "metadata": {},
   "source": [
    "À faire : Mettre en oeuvre un schéma numérique pour résoudre cette équation, en traitant les termes linéaires de manière implicite, et le terme non linéaire de manière explicite. Rechercher des conditions initiales et des valeurs de $\\nu>0$ pour lesquelles l'énergie de la solution va croítre en temps."
   ]
  },
  {
   "cell_type": "markdown",
   "metadata": {},
   "source": [
    "Schéma explicite : $u^{n+1}$ calculé à partir de $u^n$ de manière explicite (sans résoudre de système)\n",
    "\n",
    "Schéma implicite : $u^{n+1}$ calculé en résolvant un système du type $Au^{n+1} = u^n$"
   ]
  },
  {
   "cell_type": "markdown",
   "metadata": {},
   "source": [
    "### Méthode pour l'exo4 du tp1 : à adapter $(\\frac{\\partial u}{\\partial t}-\\nu\\frac{\\partial^{2} u}{\\partial x^{2}} = 0)$\n",
    "\n",
    "Pour résoudre l'équation, on pose $$\\frac{\\partial u}{\\partial t} \\sim \\frac{u^{n+1} - u^n}{\\Delta t}.$$\n",
    "On a alors $$\\int^1_0 (u^{n+1}-u^n)v + \\Delta t \\int^1_0 (u^{n+1})'v' = 0$$\n",
    "ce qui nous donne $$\\int^1_0 u^{n+1}v + \\Delta t \\int^1_0 (u^{n+1})'v' = \\int^1_0 u^nv.$$\n",
    "Avec $u^{n+1}(x) = \\sum_i u_i^{n+1} \\phi_i(x)$\n",
    "et $v(x) = \\phi_j(x)$, on a $\\forall j$ :\n",
    "$$ \\sum_i u_i^{n+1} \\left( \\int^1_0 \\phi_i \\phi_j + \\Delta t \\int^1_0 \\phi_i' \\phi_j' \\right) = \\sum_i u_i^{n} \\int^1_0 \\phi_i \\phi_j$$"
   ]
  },
  {
   "cell_type": "code",
   "execution_count": 3,
   "metadata": {},
   "outputs": [
    {
     "name": "stdout",
     "output_type": "stream",
     "text": [
      "Nombre d'intervalles de la subdivision :\n",
      "100\n"
     ]
    }
   ],
   "source": [
    "nx=int(input(\"Nombre d'intervalles de la subdivision :\\n\"))\n",
    "\n",
    "# Création du maillage\n",
    "Pt = linspace(0,1,nx+1)\n",
    "\n",
    "# Création du tableau de correspondance\n",
    "seg = zeros((nx,2),dtype=int)  #tableau de taille nx, et 2 noeuds par éléments\n",
    "seg[:,0] = arange(nx)          #arange = intervalle de 0 à nx       \n",
    "seg[:,1] = arange(nx)+1\n",
    "\n",
    "# Coefficient de viscosité\n",
    "nu = 1.;"
   ]
  },
  {
   "cell_type": "markdown",
   "metadata": {},
   "source": [
    "### Lecture du maillage"
   ]
  },
  {
   "cell_type": "code",
   "execution_count": 4,
   "metadata": {},
   "outputs": [],
   "source": [
    "# Coordonnées des noeuds du maillage\n",
    "X = Pt[:]\n",
    "# Nombre de noeuds\n",
    "Nb_Noeuds = size(X)\n",
    "# Nombre de segments\n",
    "Nb_ele = shape(seg)[0]"
   ]
  },
  {
   "cell_type": "markdown",
   "metadata": {},
   "source": [
    "### Calcul de la matrice de rigidité"
   ]
  },
  {
   "cell_type": "markdown",
   "metadata": {},
   "source": [
    "Pour calculer la matrice de rigidité, on calcule deux matrices distinctes : la matrice $M_{ij}$ qui représente $\\int^1_0 \\phi_i \\phi_j$ et la matrice $S_{ij}$ qui représente $\\int^1_0 \\phi_i' \\phi_j'$."
   ]
  },
  {
   "cell_type": "markdown",
   "metadata": {},
   "source": [
    "**En gros, ici il va falloir rajouter une troisième matrice pour le troisième terme de l'équation je pense $(u\\frac{\\partial u}{\\partial x})$. Après à voir ce que signifie de manière explicite aussi.**"
   ]
  },
  {
   "cell_type": "code",
   "execution_count": 5,
   "metadata": {},
   "outputs": [],
   "source": [
    "# Initialisation de la matrice de rigidité\n",
    "S = zeros((Nb_Noeuds,Nb_Noeuds));\n",
    "Selt = zeros((2,2));\n",
    "M = zeros((Nb_Noeuds,Nb_Noeuds));\n",
    "Melt = zeros((2,2));\n",
    "\n",
    "# Boucle sur les éléments\n",
    "for j in range(Nb_ele):\n",
    "\n",
    "    # Numéros globaux des extrémités du segment\n",
    "    i1 = seg[j,0]    \n",
    "    i2 = seg[j,1]\n",
    "    I = [i1, i2]\n",
    "    \n",
    "    # Coordonnées des deux extrémités\n",
    "    X1 = X[i1] \n",
    "    X2 = X[i2]\n",
    "\n",
    "    # Calcul de la longueur de l'élément\n",
    "    l = abs(X2-X1)\n",
    " \n",
    "    # Calcul de la matrice élémentaire       \n",
    "    Selt[0,0] = 1   \n",
    "    Selt[0,1] = -1   \n",
    "    Selt[1,0] = -1   \n",
    "    Selt[1,1] = 1\n",
    "    \n",
    "    Melt[0,0] = 1/3   \n",
    "    Melt[0,1] = 1/6  \n",
    "    Melt[1,0] = 1/6  \n",
    "    Melt[1,1] = 1/3\n",
    "\n",
    "    ###\n",
    "    coef  = nu/l\n",
    "    Selt *= coef\n",
    "    Melt *= l\n",
    "\n",
    "    # Assemblage des matrices élémentaires\n",
    "    S[ix_(I,I)] += Selt\n",
    "    M[ix_(I,I)] += Melt\n",
    "\n",
    "# Fin de boucle sur les éléments"
   ]
  },
  {
   "cell_type": "markdown",
   "metadata": {},
   "source": [
    "### Conditions aux limites de Dirichlet"
   ]
  },
  {
   "cell_type": "markdown",
   "metadata": {},
   "source": [
    "On met les conditions aux limites aux matrices $S$ et $M$."
   ]
  },
  {
   "cell_type": "code",
   "execution_count": 6,
   "metadata": {},
   "outputs": [],
   "source": [
    "# Boucle sur tous les noeuds: déplacement nul\n",
    "for j in range(Nb_Noeuds):\n",
    "\n",
    "\n",
    "    # Le noeud j se trouve-t-il en x=0 ?\n",
    "    if X[j]==0:\n",
    "    \n",
    "        # Pseudo-élimination dans la matrice du pb \n",
    "        S[j,:] = 0;\n",
    "        S[:,j] = 0;\n",
    "        S[j,j] = 1;\n",
    "        M[j,:] = 0;\n",
    "        M[:,j] = 0;\n",
    "        M[j,j] = 1;\n",
    "    \n",
    "    if X[j]==1:\n",
    "    \n",
    "        # Pseudo-élimination dans la matrice du pb \n",
    "        S[j,:] = 0;\n",
    "        S[:,j] = 0;\n",
    "        S[j,j] = 1;\n",
    "        M[j,:] = 0;\n",
    "        M[:,j] = 0;\n",
    "        M[j,j] = 1;"
   ]
  },
  {
   "cell_type": "markdown",
   "metadata": {},
   "source": [
    "### Résolution de système : Inversion de matrice avec $u_0(x)=\\sin(\\pi x)$ "
   ]
  },
  {
   "cell_type": "markdown",
   "metadata": {},
   "source": [
    "On résout donc l'équation $$(M + \\Delta t S) U^{n+1} = MU^n.$$ "
   ]
  },
  {
   "cell_type": "code",
   "execution_count": 7,
   "metadata": {
    "scrolled": false
   },
   "outputs": [
    {
     "data": {
      "image/png": "[encoded data removed]",
      "text/plain": [
       "<Figure size 432x288 with 1 Axes>"
      ]
     },
     "metadata": {
      "needs_background": "light"
     },
     "output_type": "display_data"
    },
    {
     "data": {
      "image/png": "[encoded data removed]",
      "text/plain": [
       "<Figure size 432x288 with 1 Axes>"
      ]
     },
     "metadata": {
      "needs_background": "light"
     },
     "output_type": "display_data"
    },
    {
     "name": "stdout",
     "output_type": "stream",
     "text": [
      "Erreur L2 : 1.486550581897661e-07\n",
      "Erreur relative : 0.004048067983524939\n"
     ]
    }
   ],
   "source": [
    "u0_0 = lambda x: sin(pi*x)\n",
    "        \n",
    "n=10000\n",
    "T = 1\n",
    "dT = T/n\n",
    "        \n",
    "U = u0_0(X)\n",
    "for i in range(n) :\n",
    "    U = linalg.solve(M+dT*S,dot(M,U))\n",
    "\n",
    "#solution exacte calculée à la main\n",
    "\n",
    "exact = lambda x: u0_0(x)*exp(-(pi**2)*T)\n",
    "V =  exact(X)\n",
    "Err = V - U\n",
    "\n",
    "\n",
    "### Affichage solution\n",
    "xx = linspace(0,1,500)\n",
    "plt.plot(xx,exact(xx),'g',label='Solution exacte')\n",
    "plt.plot(X,U,'r',label='Solution numérique')\n",
    "plt.legend(loc='best')\n",
    "plt.show()\n",
    "\n",
    "plt.plot(X,Err,'b',label='Erreur')\n",
    "plt.legend(loc='best')\n",
    "plt.show()\n",
    "\n",
    "# L2 erreur\n",
    "ErrL2 = sqrt(sum(Err**2)/nx)\n",
    "print(\"Erreur L2 :\", ErrL2)\n",
    "\n",
    "# Erreur relative par rapport à la solution théorique\n",
    "ErrRel = sqrt(sum(Err*Err)/sum(U*U))\n",
    "print('Erreur relative :', ErrRel)"
   ]
  }
 ],
 "metadata": {
  "kernelspec": {
   "display_name": "Python 3",
   "language": "python",
   "name": "python3"
  },
  "language_info": {
   "codemirror_mode": {
    "name": "ipython",
    "version": 3
   },
   "file_extension": ".py",
   "mimetype": "text/x-python",
   "name": "python",
   "nbconvert_exporter": "python",
   "pygments_lexer": "ipython3",
   "version": "3.7.4"
  }
 },
 "nbformat": 4,
 "nbformat_minor": 2
}
